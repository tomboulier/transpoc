{
 "cells": [
  {
   "cell_type": "markdown",
   "id": "e1db81c5",
   "metadata": {},
   "source": [
    "# Analyse simple du risque de ré‑identification (sur **données simulées**)\n",
    "\n",
    "**Objectif** : montrer, avec des données simulées, comment on peut évaluer le risque que des personnes soient identifiables dans un jeu de données en regardant la **taille des groupes** qui partagent la même\n",
    "combinaison de caractéristiques (âge, sexe, codes médicaux, etc.).\n",
    "\n",
    "**Idée clé** : si une combinaison n'appartient qu'à 1 seule personne (`k = 1`),\n",
    "alors cette personne est *ré‑identifiable* par quelqu'un qui connaît cette combinaison.\n"
   ]
  },
  {
   "cell_type": "markdown",
   "id": "82905a85",
   "metadata": {},
   "source": [
    "## Ce que contient ce notebook\n",
    "1. **On simule** un jeu de données simple avec 100 000 personnes.\n",
    "2. On calcule les **tailles de groupes** (k) pour différentes **granularités** (plus ou moins détaillées).\n",
    "3. On affiche des **tableaux** et **histogrammes** pour voir le risque.\n",
    "4. On montre l'effet de **coarsening** (regrouper des catégories) et de **retirer un axe** très discriminant.\n"
   ]
  },
  {
   "cell_type": "code",
   "execution_count": null,
   "id": "a04c77b9",
   "metadata": {},
   "outputs": [],
   "source": [
    "# Imports\n",
    "import numpy as np\n",
    "import pandas as pd\n",
    "import matplotlib.pyplot as plt"
   ]
  },
  {
   "cell_type": "markdown",
   "id": "45801fce",
   "metadata": {},
   "source": [
    "## 1) Paramètres de simulation\n",
    "\n",
    "On simule :\n",
    "- 20 tranches d'âge (classes de 5 ans),\n",
    "- 2 sexes,\n",
    "- 2 valeurs d'issue (transfusion oui/non, ici ~1%),\n",
    "- **CIM‑10** : 22 chapitres,\n",
    "- **ATC** : 14 grandes classes,\n",
    "- **CCAM** : 19 chapitres.\n",
    "\n",
    "Tu peux modifier ces paramètres ci‑dessous pour tester d'autres cas.\n"
   ]
  },
  {
   "cell_type": "code",
   "execution_count": null,
   "id": "62acacd8",
   "metadata": {},
   "outputs": [],
   "source": [
    "# Pour des résultats reproductibles\n",
    "np.random.seed(42)\n",
    "\n",
    "# Taille de la population simulée\n",
    "N = 100_000\n",
    "\n",
    "# Espaces de catégories\n",
    "AGE_BUCKETS_20 = np.arange(20)     # 20 classes d'âge (0..19)\n",
    "SEXES = np.array(['F', 'H'])       # 2 sexes\n",
    "TRANSFUSION_RATE = 0.01            # 1% de transfusion\n",
    "\n",
    "N_CIM10 = 22                        # chapitres CIM-10\n",
    "N_ATC = 14                          # classes ATC (niveau agrégé)\n",
    "N_CCAM = 19                         # chapitres CCAM\n",
    "\n",
    "def zipf_probs(k: int, s: float = 1.1) -> np.ndarray:\n",
    "    \"\"\"Renvoie une loi 'type Zipf' (les premières catégories sont plus fréquentes).\"\"\"\n",
    "    ranks = np.arange(1, k + 1)\n",
    "    p = 1.0 / (ranks ** s)\n",
    "    return p / p.sum()\n"
   ]
  },
  {
   "cell_type": "markdown",
   "id": "efaee42f",
   "metadata": {},
   "source": [
    "## 2) Simulation d'un jeu de données\n",
    "\n",
    "On génère des colonnes simples :\n",
    "- `age_bucket20`, `sex`, `transfusion`\n",
    "- `icd_chap` (CIM‑10), `atc_grp` (ATC), `ccam_chap` (CCAM)\n",
    "\n",
    "On choisit des distributions un peu **déséquilibrées** (certaines catégories sont plus fréquentes),\n",
    "pour imiter la réalité où tout n'est pas uniformément réparti.\n"
   ]
  },
  {
   "cell_type": "code",
   "execution_count": null,
   "id": "66a28539",
   "metadata": {},
   "outputs": [],
   "source": [
    "# Probabilités (catégories déséquilibrées, plus réalistes qu'un tirage uniforme)\n",
    "p_icd = zipf_probs(N_CIM10, s=1.1)\n",
    "p_atc = zipf_probs(N_ATC,   s=1.0)\n",
    "p_ccam = zipf_probs(N_CCAM, s=1.15)\n",
    "\n",
    "# Tirages aléatoires\n",
    "age = np.random.choice(AGE_BUCKETS_20, size=N, replace=True)\n",
    "sex = np.random.choice(SEXES, size=N, replace=True)\n",
    "transfusion = (np.random.rand(N) < TRANSFUSION_RATE).astype(int)\n",
    "\n",
    "icd = np.random.choice(np.arange(1, N_CIM10 + 1), size=N, p=p_icd)\n",
    "atc = np.random.choice(np.arange(1, N_ATC + 1),   size=N, p=p_atc)\n",
    "ccam = np.random.choice(np.arange(1, N_CCAM + 1), size=N, p=p_ccam)\n",
    "\n",
    "df = pd.DataFrame({\n",
    "    'age_bucket20': age,\n",
    "    'sex': sex,\n",
    "    'transfusion': transfusion,\n",
    "    'icd_chap': icd,\n",
    "    'atc_grp': atc,\n",
    "    'ccam_chap': ccam,\n",
    "})\n",
    "\n",
    "df.head()"
   ]
  },
  {
   "cell_type": "markdown",
   "id": "7db2035c",
   "metadata": {},
   "source": [
    "## 3) Fonction utilitaire : tailles de groupes (k)\n",
    "\n",
    "On compte combien de personnes partagent **exactement** la même combinaison de colonnes choisies.\n"
   ]
  },
  {
   "cell_type": "code",
   "execution_count": null,
   "id": "93b1a9ce",
   "metadata": {},
   "outputs": [],
   "source": [
    "from typing import List, Tuple, Dict\n",
    "\n",
    "def group_size_table(data: pd.DataFrame, cols: List[str]) -> pd.DataFrame:\n",
    "    \"\"\"Return a table with one row per combination and a 'count' column = group size (k).\"\"\"\n",
    "    g = data.value_counts(subset=cols).reset_index(name='count')\n",
    "    return g\n",
    "\n",
    "def k_stats_for_reporting(g: pd.DataFrame, label: str) -> Dict[str, float]:\n",
    "    \"\"\"Return simple stats to summarize risk in plain language.\"\"\"\n",
    "    observed = len(g)  # number of combos that actually appear\n",
    "    uniques = (g['count'] == 1).sum()\n",
    "    lt5 = (g['count'] < 5).sum()\n",
    "    # Patient-weighted stats\n",
    "    total = int(g['count'].sum())\n",
    "    patients_k1 = int(g.loc[g['count'] == 1, 'count'].sum())\n",
    "    patients_klt5 = int(g.loc[g['count'] < 5, 'count'].sum())\n",
    "    # Weighted median of k\n",
    "    median_k_weighted = float(np.median(np.repeat(g['count'].values, g['count'].values)))\n",
    "    return {\n",
    "        'setting': label,\n",
    "        'observed_combos': int(observed),\n",
    "        'unique_combos': int(uniques),\n",
    "        'prop_unique_combos': uniques / observed if observed else np.nan,\n",
    "        'prop_combos_k<5': lt5 / observed if observed else np.nan,\n",
    "        'patients_total': total,\n",
    "        'patients_in_k=1': patients_k1,\n",
    "        'prop_patients_k=1': patients_k1 / total if total else np.nan,\n",
    "        'patients_in_k<5': patients_klt5,\n",
    "        'prop_patients_k<5': patients_klt5 / total if total else np.nan,\n",
    "        'median_k_weighted': median_k_weighted,\n",
    "    }"
   ]
  },
  {
   "cell_type": "markdown",
   "id": "131bd735",
   "metadata": {},
   "source": [
    "## 4) Granularité **fine** (combinatoire détaillée)\n",
    "\n",
    "Clé d'équivalence utilisée :\n",
    "```\n",
    "(age_bucket20, sex, transfusion, icd_chap, atc_grp, ccam_chap)\n",
    "```\n",
    "Plus on met de détails, plus on crée de petites classes (souvent de taille 1), donc risque ↑.\n"
   ]
  },
  {
   "cell_type": "code",
   "execution_count": null,
   "id": "18d858bf",
   "metadata": {},
   "outputs": [],
   "source": [
    "cols_fine = ['age_bucket20', 'sex', 'transfusion', 'icd_chap', 'atc_grp', 'ccam_chap']\n",
    "g_fine = group_size_table(df, cols_fine)\n",
    "stats_fine = k_stats_for_reporting(g_fine, 'fine')\n",
    "pd.DataFrame([stats_fine])"
   ]
  },
  {
   "cell_type": "code",
   "execution_count": null,
   "id": "d4363148",
   "metadata": {},
   "outputs": [],
   "source": [
    "# Distribution des tailles de groupes pour le sous-groupe \"transfusion = 1\"\n",
    "g_fine_tx = group_size_table(df[df['transfusion'] == 1], cols_fine)\n",
    "plt.figure()\n",
    "plt.hist(g_fine_tx['count'], bins=50)\n",
    "plt.title('Tailles de groupes (k) — transfusion=1 — granularité fine')\n",
    "plt.xlabel('k')\n",
    "plt.ylabel('nombre de classes')\n",
    "plt.show()"
   ]
  },
  {
   "cell_type": "markdown",
   "id": "009ae12f",
   "metadata": {},
   "source": [
    "## 5) **Regrouper** des catégories (coarsening)\n",
    "\n",
    "On fusionne des catégories pour **grossir** les groupes :\n",
    "- Âge : 10 classes (au lieu de 20),\n",
    "- CIM‑10 : ~10 super‑groupes,\n",
    "- ATC : ~7 super‑groupes,\n",
    "- CCAM : ~10 super‑groupes.\n",
    "\n",
    "But : faire monter `k` sans tout effacer.\n"
   ]
  },
  {
   "cell_type": "code",
   "execution_count": null,
   "id": "d221809c",
   "metadata": {},
   "outputs": [],
   "source": [
    "df_c = df.copy()\n",
    "# Age: 20 -> 10 classes\n",
    "df_c['age_bucket10'] = df_c['age_bucket20'] // 2\n",
    "\n",
    "# Exemple simple de fusion en \"super-groupes\" par paquets\n",
    "df_c['icd_super10']  = ((df_c['icd_chap'] - 1) // 2 + 1).clip(1, 10)  # 22 -> ~10\n",
    "df_c['atc_super7']   = ((df_c['atc_grp']  - 1) // 2 + 1)               # 14 -> 7\n",
    "df_c['ccam_super10'] = ((df_c['ccam_chap']- 1) // 2 + 1)               # 19 -> ~10\n",
    "\n",
    "cols_coarse = ['age_bucket10','sex','transfusion','icd_super10','atc_super7','ccam_super10']\n",
    "g_coarse = group_size_table(df_c, cols_coarse)\n",
    "stats_coarse = k_stats_for_reporting(g_coarse, 'coarse')\n",
    "pd.DataFrame([stats_coarse])"
   ]
  },
  {
   "cell_type": "code",
   "execution_count": null,
   "id": "fc3e6223",
   "metadata": {},
   "outputs": [],
   "source": [
    "# Même histogramme sur le sous-groupe transfusion=1 après coarsening\n",
    "g_coarse_tx = group_size_table(df_c[df_c['transfusion'] == 1], cols_coarse)\n",
    "plt.figure()\n",
    "plt.hist(g_coarse_tx['count'], bins=50)\n",
    "plt.title('Tailles de groupes (k) — transfusion=1 — après regroupements')\n",
    "plt.xlabel('k')\n",
    "plt.ylabel('nombre de classes')\n",
    "plt.show()"
   ]
  },
  {
   "cell_type": "markdown",
   "id": "186b5e6a",
   "metadata": {},
   "source": [
    "## 6) Retirer un axe très discriminant (ex.: CCAM)\n",
    "\n",
    "On recommence sans utiliser **CCAM** dans la clé d'équivalence publique :\n",
    "```\n",
    "(age_bucket10, sex, transfusion, icd_super10, atc_super7)\n",
    "```\n",
    "L'idée n'est pas de \"tricher\", mais de **limiter** les détails publiés si un axe rend\n",
    "quasi tout le monde unique. En pratique, on peut publier CCAM **plus agrégé** ou via des **indicateurs**.\n"
   ]
  },
  {
   "cell_type": "code",
   "execution_count": null,
   "id": "3dd362b4",
   "metadata": {},
   "outputs": [],
   "source": [
    "cols_coarse_no_ccam = ['age_bucket10','sex','transfusion','icd_super10','atc_super7']\n",
    "g_no_ccam = group_size_table(df_c, cols_coarse_no_ccam)\n",
    "stats_no_ccam = k_stats_for_reporting(g_no_ccam, 'coarse minus CCAM')\n",
    "pd.DataFrame([stats_no_ccam])"
   ]
  },
  {
   "cell_type": "markdown",
   "id": "7f27b5b4",
   "metadata": {},
   "source": [
    "## 7) Résumé comparatif\n",
    "\n",
    "On compare les trois situations :\n",
    "- **fine** (très détaillé) → risque le plus élevé,\n",
    "- **coarse** (catégories regroupées) → risque en baisse,\n",
    "- **coarse minus CCAM** → risque encore plus bas.\n",
    "\n",
    "La colonne `prop_patients_k<5` est souvent la plus parlante : elle dit **quelle part des personnes**\n",
    "se retrouvent dans de **toutes petites classes** (k<5).\n"
   ]
  },
  {
   "cell_type": "code",
   "execution_count": null,
   "id": "f4d15d5f",
   "metadata": {},
   "outputs": [],
   "source": [
    "summary = pd.DataFrame([stats_fine, stats_coarse, stats_no_ccam])\n",
    "summary[['setting','observed_combos','prop_patients_k=1','prop_patients_k<5','median_k_weighted']].sort_values('setting')"
   ]
  },
  {
   "cell_type": "markdown",
   "id": "70b83df1",
   "metadata": {},
   "source": [
    "## 8) Comment lire ces résultats (sans jargon)\n",
    "- Si beaucoup de personnes sont en **k=1** (ou **k<5**), le **risque est élevé**.\n",
    "- **Regrouper** des catégories (classes d'âge plus larges, chapitres médicaux plus généraux)\n",
    "  **augmente k** et **réduit** le risque.\n",
    "- Si un **axe** rend presque tout le monde unique (ex. un code trop fin), on peut :\n",
    "  - publier cet axe **plus agrégé**,\n",
    "  - ou ne pas l'utiliser pour former les **classes d'équivalence** publiques,\n",
    "  - ou **basculer vers des données 100% synthétiques** pour la publication large.\n"
   ]
  },
  {
   "cell_type": "markdown",
   "id": "25d0569f",
   "metadata": {},
   "source": [
    "## 9) Pour aller plus loin (optionnel)\n",
    "- Tester d'autres découpages (âge en 5 classes, 8 classes, etc.).\n",
    "- Tester l'effet de retirer **ICD** ou **ATC** plutôt que **CCAM**.\n",
    "- Ajouter un **contrôle** spécifique sur les sous‑groupes **rares** (ex. transfusion=1).\n",
    "- Si publication ouverte : envisager un **jeu de données synthétiques** et documenter des tests de non‑fuite (ex. nearest‑neighbor).\n",
    "\n",
    "**Références utiles (simples à lire) :**\n",
    "- ICO (UK) — Introduction à l’anonymisation : https://ico.org.uk/for-organisations/uk-gdpr-guidance-and-resources/data-sharing/anonymisation/introduction-to-anonymisation/\n",
    "- NIST SP 800‑226 (2025) — Guide d’évaluation de la confidentialité différentielle : https://nvlpubs.nist.gov/nistpubs/SpecialPublications/NIST.SP.800-226.pdf\n"
   ]
  }
 ],
 "metadata": {
  "kernelspec": {
   "display_name": "transpoc",
   "language": "python",
   "name": "python3"
  },
  "language_info": {
   "name": "python",
   "version": "3.12.3"
  }
 },
 "nbformat": 4,
 "nbformat_minor": 5
}
